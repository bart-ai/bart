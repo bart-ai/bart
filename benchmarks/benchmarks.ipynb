{
 "cells": [
  {
   "cell_type": "code",
   "execution_count": null,
   "id": "a2ded17e",
   "metadata": {},
   "outputs": [],
   "source": [
    "# 1. Mostrar algunas realidades de video processing, y no de ML. Correr sin modelo\n",
    "# sobre videos de distintos fps, longitud, tamaño y calidad\n",
    "\n",
    "# - como varía el tiempo segun los target-fps\n",
    "# - como varía el tiempo segun el tamaño del frame\n",
    "# - como varía el tiempo segun el codec (h264, mp4v)\n",
    "# - como varía el tiempo segun la calidad del target\n",
    "\n",
    "# 2. Mostrar cuanto tiempo extra agrega llamar al modelo\n",
    "\n",
    "# 3. Mostrar cuanto agregan los multitrackers\n",
    "# - hacer un heatmap por cada multitracker que muestre target-fps, secs-refetch,\n",
    "# y duracion del proceso, usando de verde que se haya procesado en menos que lo que \n",
    "# dura el video\n",
    "\n",
    "# chusmear https://github.com/sharkdp/hyperfine/blob/master/scripts/plot_parametrized.py"
   ]
  },
  {
   "cell_type": "code",
   "execution_count": null,
   "id": "96c95566",
   "metadata": {},
   "outputs": [],
   "source": [
    "import subprocess\n",
    "import os\n",
    "import cv2\n",
    "\n",
    "# TODO: agregar landscape de 45sec@60fps\n",
    "TEST_FILES = ['../test-videos/face-1000fps.mp4', '../test-videos/face.mp4', '../test-videos/portrait.mp4']\n",
    "\n",
    "# sudo apt install hyperfine\n",
    "HYPERFINE = ['hyperfine', '--style', 'basic', '--max-runs', '3',]\n",
    "\n",
    "def basename(file):\n",
    "    return os.path.basename(file)\n",
    "\n",
    "def csv(file): \n",
    "    return f'benchmarks-{basename(file).split(\".\")[0]}.csv'\n",
    "\n",
    "def info(file):\n",
    "    video = cv2.VideoCapture(file)\n",
    "    fps = video.get(cv2.CAP_PROP_FPS)\n",
    "    numberframes = int(video.get(cv2.CAP_PROP_FRAME_COUNT))\n",
    "    video.release()\n",
    "    return {'duration': numberframes / fps, 'fps': fps}\n",
    "\n",
    "\n",
    "for file in TEST_FILES:\n",
    "    # TODO: Armar la lista de fps en base a los fps del video, para no llamar a\n",
    "    # hyperfine mas de lo normal\n",
    "    subprocess.run([\n",
    "        *HYPERFINE,\n",
    "        '--export-csv', csv(file),\n",
    "        '--parameter-list', 'targetfps', '5,15,24,30,60,90',\n",
    "        f'python3 ../src/main.py {file} --target-fps {{targetfps}} --secs-refetch 0'\n",
    "    ])"
   ]
  },
  {
   "cell_type": "code",
   "execution_count": null,
   "id": "1afa8fa9",
   "metadata": {
    "scrolled": false
   },
   "outputs": [],
   "source": [
    "import pandas as pd\n",
    "import matplotlib.pyplot as plt\n",
    "\n",
    "fig, axes = plt.subplots(1, len(TEST_FILES), figsize=(15, 5))\n",
    "axes = axes.flatten()\n",
    "\n",
    "for i, file in enumerate(TEST_FILES):\n",
    "    videoinfo = info(file)\n",
    "    df = pd.read_csv(csv(file))\n",
    "    plt.sca(axes[i])\n",
    "    \n",
    "    plt.plot(df['parameter_targetfps'], df['mean'], marker='o', linestyle='-')\n",
    "    plt.xlabel('target fps')\n",
    "    plt.ylabel('Mean (seconds)')\n",
    "    plt.axhline(y=videoinfo['duration'], color='red', linestyle='--', label=\"Video duration\")\n",
    "    plt.title(f\"{basename(file)} ({round(videoinfo['fps'], 1)} fps)\")\n",
    "    plt.legend()\n",
    "\n",
    "plt.tight_layout()\n",
    "plt.show()"
   ]
  }
 ],
 "metadata": {
  "kernelspec": {
   "display_name": "venv",
   "language": "python",
   "name": "venv"
  },
  "language_info": {
   "codemirror_mode": {
    "name": "ipython",
    "version": 3
   },
   "file_extension": ".py",
   "mimetype": "text/x-python",
   "name": "python",
   "nbconvert_exporter": "python",
   "pygments_lexer": "ipython3",
   "version": "3.10.12"
  }
 },
 "nbformat": 4,
 "nbformat_minor": 5
}
